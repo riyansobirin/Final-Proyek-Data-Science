{
 "cells": [
  {
   "cell_type": "markdown",
   "metadata": {},
   "source": [
    "### Instalation Jupyter Notebook :\n",
    "https://www.youtube.com/watch?v=UTqOXwAi1pE"
   ]
  },
  {
   "cell_type": "markdown",
   "metadata": {
    "id": "SeXvLc-1BW5y"
   },
   "source": [
    "# Simple Linear Regression "
   ]
  },
  {
   "cell_type": "markdown",
   "metadata": {
    "id": "JUPGS__xBW5y"
   },
   "source": [
    "In this example we will consider Ice Cream Profits based on 'Temperature'. \n",
    "\n",
    "In this notebook, we'll build a linear regression model to predict 'Ice Cream Profits' using 'Temperature' as the predictor variable.\n"
   ]
  },
  {
   "cell_type": "code",
   "execution_count": null,
   "metadata": {},
   "outputs": [],
   "source": [
    "Langkah-Langkah dalam Analisis Regresi\n",
    "\n",
    "Mengimport data\n",
    "\n",
    "Mengenali data\n",
    "\n",
    "Melakukan analisis secara statistik \n",
    "\n",
    "Melakukan eksploratori data\n",
    "\n",
    "Memasuki machine learning modeling dengan regresi linear\n",
    "\n",
    "Evaluasi machine learning model \n",
    "\n",
    "Mencari insight\n",
    "\n"
   ]
  },
  {
   "cell_type": "markdown",
   "metadata": {
    "id": "_xhhrRGiBW5y"
   },
   "source": [
    "## Understanding the Data"
   ]
  },
  {
   "cell_type": "markdown",
   "metadata": {
    "id": "5Hxz_OnuBW5y"
   },
   "source": [
    "Let's start with the following steps:\n",
    "\n",
    "1. Importing data using the pandas library\n",
    "2. Understanding the structure of the data"
   ]
  },
  {
   "cell_type": "code",
   "execution_count": 3,
   "metadata": {
    "id": "4YmE8-RiBW5y",
    "tags": []
   },
   "outputs": [],
   "source": [
    "import pandas as pd"
   ]
  },
  {
   "cell_type": "code",
   "execution_count": 5,
   "metadata": {
    "id": "LIadm3t6BW5z",
    "tags": []
   },
   "outputs": [
    {
     "data": {
      "text/html": [
       "<div>\n",
       "<style scoped>\n",
       "    .dataframe tbody tr th:only-of-type {\n",
       "        vertical-align: middle;\n",
       "    }\n",
       "\n",
       "    .dataframe tbody tr th {\n",
       "        vertical-align: top;\n",
       "    }\n",
       "\n",
       "    .dataframe thead th {\n",
       "        text-align: right;\n",
       "    }\n",
       "</style>\n",
       "<table border=\"1\" class=\"dataframe\">\n",
       "  <thead>\n",
       "    <tr style=\"text-align: right;\">\n",
       "      <th></th>\n",
       "      <th>Temperature</th>\n",
       "      <th>Ice Cream Profits</th>\n",
       "    </tr>\n",
       "  </thead>\n",
       "  <tbody>\n",
       "    <tr>\n",
       "      <th>0</th>\n",
       "      <td>39</td>\n",
       "      <td>13.17</td>\n",
       "    </tr>\n",
       "    <tr>\n",
       "      <th>1</th>\n",
       "      <td>40</td>\n",
       "      <td>11.88</td>\n",
       "    </tr>\n",
       "    <tr>\n",
       "      <th>2</th>\n",
       "      <td>41</td>\n",
       "      <td>18.82</td>\n",
       "    </tr>\n",
       "    <tr>\n",
       "      <th>3</th>\n",
       "      <td>42</td>\n",
       "      <td>18.65</td>\n",
       "    </tr>\n",
       "    <tr>\n",
       "      <th>4</th>\n",
       "      <td>43</td>\n",
       "      <td>17.02</td>\n",
       "    </tr>\n",
       "    <tr>\n",
       "      <th>...</th>\n",
       "      <td>...</td>\n",
       "      <td>...</td>\n",
       "    </tr>\n",
       "    <tr>\n",
       "      <th>360</th>\n",
       "      <td>99</td>\n",
       "      <td>85.13</td>\n",
       "    </tr>\n",
       "    <tr>\n",
       "      <th>361</th>\n",
       "      <td>99</td>\n",
       "      <td>87.08</td>\n",
       "    </tr>\n",
       "    <tr>\n",
       "      <th>362</th>\n",
       "      <td>99</td>\n",
       "      <td>89.29</td>\n",
       "    </tr>\n",
       "    <tr>\n",
       "      <th>363</th>\n",
       "      <td>101</td>\n",
       "      <td>81.91</td>\n",
       "    </tr>\n",
       "    <tr>\n",
       "      <th>364</th>\n",
       "      <td>101</td>\n",
       "      <td>85.02</td>\n",
       "    </tr>\n",
       "  </tbody>\n",
       "</table>\n",
       "<p>365 rows × 2 columns</p>\n",
       "</div>"
      ],
      "text/plain": [
       "     Temperature  Ice Cream Profits\n",
       "0             39              13.17\n",
       "1             40              11.88\n",
       "2             41              18.82\n",
       "3             42              18.65\n",
       "4             43              17.02\n",
       "..           ...                ...\n",
       "360           99              85.13\n",
       "361           99              87.08\n",
       "362           99              89.29\n",
       "363          101              81.91\n",
       "364          101              85.02\n",
       "\n",
       "[365 rows x 2 columns]"
      ]
     },
     "execution_count": 5,
     "metadata": {},
     "output_type": "execute_result"
    }
   ],
   "source": [
    "# Reading csv file from github repo\n",
    "#url  = \"https://raw.githubusercontent.com/devzohaib/Simple-Linear-Regression/master/tvmarketing.csv\"\n",
    "iceCreamSales = pd.read_csv('C:/Users/Asus/Documents/Belajar_Data_Science/Project Data Science/archive/temperatures.csv')\n",
    "iceCreamSales"
   ]
  },
  {
   "cell_type": "markdown",
   "metadata": {
    "id": "9ZFSxwHPBW5z"
   },
   "source": [
    "Now, let's check the structure of the advertising dataset."
   ]
  },
  {
   "cell_type": "code",
   "execution_count": 7,
   "metadata": {
    "colab": {
     "base_uri": "https://localhost:8080/",
     "height": 202
    },
    "id": "pzkseQTcBW5z",
    "outputId": "450b1d4b-b243-455a-df62-e6b3c1211e6a",
    "tags": []
   },
   "outputs": [
    {
     "data": {
      "text/html": [
       "<div>\n",
       "<style scoped>\n",
       "    .dataframe tbody tr th:only-of-type {\n",
       "        vertical-align: middle;\n",
       "    }\n",
       "\n",
       "    .dataframe tbody tr th {\n",
       "        vertical-align: top;\n",
       "    }\n",
       "\n",
       "    .dataframe thead th {\n",
       "        text-align: right;\n",
       "    }\n",
       "</style>\n",
       "<table border=\"1\" class=\"dataframe\">\n",
       "  <thead>\n",
       "    <tr style=\"text-align: right;\">\n",
       "      <th></th>\n",
       "      <th>Temperature</th>\n",
       "      <th>Ice Cream Profits</th>\n",
       "    </tr>\n",
       "  </thead>\n",
       "  <tbody>\n",
       "    <tr>\n",
       "      <th>0</th>\n",
       "      <td>39</td>\n",
       "      <td>13.17</td>\n",
       "    </tr>\n",
       "    <tr>\n",
       "      <th>1</th>\n",
       "      <td>40</td>\n",
       "      <td>11.88</td>\n",
       "    </tr>\n",
       "    <tr>\n",
       "      <th>2</th>\n",
       "      <td>41</td>\n",
       "      <td>18.82</td>\n",
       "    </tr>\n",
       "    <tr>\n",
       "      <th>3</th>\n",
       "      <td>42</td>\n",
       "      <td>18.65</td>\n",
       "    </tr>\n",
       "    <tr>\n",
       "      <th>4</th>\n",
       "      <td>43</td>\n",
       "      <td>17.02</td>\n",
       "    </tr>\n",
       "  </tbody>\n",
       "</table>\n",
       "</div>"
      ],
      "text/plain": [
       "   Temperature  Ice Cream Profits\n",
       "0           39              13.17\n",
       "1           40              11.88\n",
       "2           41              18.82\n",
       "3           42              18.65\n",
       "4           43              17.02"
      ]
     },
     "execution_count": 7,
     "metadata": {},
     "output_type": "execute_result"
    }
   ],
   "source": [
    "# Display the first 5 rows\n",
    "iceCreamSales.head()"
   ]
  },
  {
   "cell_type": "code",
   "execution_count": 9,
   "metadata": {
    "colab": {
     "base_uri": "https://localhost:8080/",
     "height": 202
    },
    "id": "pbmsRO2YBW50",
    "outputId": "d513486d-be6f-4908-fc0f-78662e099e4f",
    "tags": []
   },
   "outputs": [
    {
     "data": {
      "text/html": [
       "<div>\n",
       "<style scoped>\n",
       "    .dataframe tbody tr th:only-of-type {\n",
       "        vertical-align: middle;\n",
       "    }\n",
       "\n",
       "    .dataframe tbody tr th {\n",
       "        vertical-align: top;\n",
       "    }\n",
       "\n",
       "    .dataframe thead th {\n",
       "        text-align: right;\n",
       "    }\n",
       "</style>\n",
       "<table border=\"1\" class=\"dataframe\">\n",
       "  <thead>\n",
       "    <tr style=\"text-align: right;\">\n",
       "      <th></th>\n",
       "      <th>Temperature</th>\n",
       "      <th>Ice Cream Profits</th>\n",
       "    </tr>\n",
       "  </thead>\n",
       "  <tbody>\n",
       "    <tr>\n",
       "      <th>360</th>\n",
       "      <td>99</td>\n",
       "      <td>85.13</td>\n",
       "    </tr>\n",
       "    <tr>\n",
       "      <th>361</th>\n",
       "      <td>99</td>\n",
       "      <td>87.08</td>\n",
       "    </tr>\n",
       "    <tr>\n",
       "      <th>362</th>\n",
       "      <td>99</td>\n",
       "      <td>89.29</td>\n",
       "    </tr>\n",
       "    <tr>\n",
       "      <th>363</th>\n",
       "      <td>101</td>\n",
       "      <td>81.91</td>\n",
       "    </tr>\n",
       "    <tr>\n",
       "      <th>364</th>\n",
       "      <td>101</td>\n",
       "      <td>85.02</td>\n",
       "    </tr>\n",
       "  </tbody>\n",
       "</table>\n",
       "</div>"
      ],
      "text/plain": [
       "     Temperature  Ice Cream Profits\n",
       "360           99              85.13\n",
       "361           99              87.08\n",
       "362           99              89.29\n",
       "363          101              81.91\n",
       "364          101              85.02"
      ]
     },
     "execution_count": 9,
     "metadata": {},
     "output_type": "execute_result"
    }
   ],
   "source": [
    "# Display the last 5 rows\n",
    "iceCreamSales.tail()"
   ]
  },
  {
   "cell_type": "code",
   "execution_count": 11,
   "metadata": {
    "colab": {
     "base_uri": "https://localhost:8080/"
    },
    "id": "HQDqzhdKBW51",
    "outputId": "1cb2a23e-8963-4629-b415-8fa68c5c383b",
    "tags": []
   },
   "outputs": [
    {
     "name": "stdout",
     "output_type": "stream",
     "text": [
      "<class 'pandas.core.frame.DataFrame'>\n",
      "RangeIndex: 365 entries, 0 to 364\n",
      "Data columns (total 2 columns):\n",
      " #   Column             Non-Null Count  Dtype  \n",
      "---  ------             --------------  -----  \n",
      " 0   Temperature        365 non-null    int64  \n",
      " 1   Ice Cream Profits  365 non-null    float64\n",
      "dtypes: float64(1), int64(1)\n",
      "memory usage: 5.8 KB\n"
     ]
    }
   ],
   "source": [
    "# Let's check the columns\n",
    "iceCreamSales.info()"
   ]
  },
  {
   "cell_type": "code",
   "execution_count": 13,
   "metadata": {
    "colab": {
     "base_uri": "https://localhost:8080/"
    },
    "id": "1fOGVz61BW51",
    "outputId": "81567bb2-0c1b-480c-9a4c-9f1d70c012e0",
    "tags": []
   },
   "outputs": [
    {
     "data": {
      "text/plain": [
       "(365, 2)"
      ]
     },
     "execution_count": 13,
     "metadata": {},
     "output_type": "execute_result"
    }
   ],
   "source": [
    "# Check the shape of the DataFrame (rows, columns)\n",
    "iceCreamSales.shape"
   ]
  },
  {
   "cell_type": "code",
   "execution_count": 15,
   "metadata": {
    "tags": []
   },
   "outputs": [
    {
     "data": {
      "text/plain": [
       "Index(['Temperature', 'Ice Cream Profits'], dtype='object')"
      ]
     },
     "execution_count": 15,
     "metadata": {},
     "output_type": "execute_result"
    }
   ],
   "source": [
    "iceCreamSales.columns"
   ]
  },
  {
   "cell_type": "code",
   "execution_count": 17,
   "metadata": {
    "colab": {
     "base_uri": "https://localhost:8080/",
     "height": 294
    },
    "id": "VO4GoVyfBW51",
    "outputId": "29ea1da8-11c6-4cf1-9e1f-8cb9298afa92",
    "tags": []
   },
   "outputs": [
    {
     "data": {
      "text/html": [
       "<div>\n",
       "<style scoped>\n",
       "    .dataframe tbody tr th:only-of-type {\n",
       "        vertical-align: middle;\n",
       "    }\n",
       "\n",
       "    .dataframe tbody tr th {\n",
       "        vertical-align: top;\n",
       "    }\n",
       "\n",
       "    .dataframe thead th {\n",
       "        text-align: right;\n",
       "    }\n",
       "</style>\n",
       "<table border=\"1\" class=\"dataframe\">\n",
       "  <thead>\n",
       "    <tr style=\"text-align: right;\">\n",
       "      <th></th>\n",
       "      <th>Temperature</th>\n",
       "      <th>Ice Cream Profits</th>\n",
       "    </tr>\n",
       "  </thead>\n",
       "  <tbody>\n",
       "    <tr>\n",
       "      <th>count</th>\n",
       "      <td>365.000000</td>\n",
       "      <td>365.000000</td>\n",
       "    </tr>\n",
       "    <tr>\n",
       "      <th>mean</th>\n",
       "      <td>71.980822</td>\n",
       "      <td>52.103616</td>\n",
       "    </tr>\n",
       "    <tr>\n",
       "      <th>std</th>\n",
       "      <td>13.258510</td>\n",
       "      <td>15.989004</td>\n",
       "    </tr>\n",
       "    <tr>\n",
       "      <th>min</th>\n",
       "      <td>39.000000</td>\n",
       "      <td>11.880000</td>\n",
       "    </tr>\n",
       "    <tr>\n",
       "      <th>25%</th>\n",
       "      <td>63.000000</td>\n",
       "      <td>40.650000</td>\n",
       "    </tr>\n",
       "    <tr>\n",
       "      <th>50%</th>\n",
       "      <td>73.000000</td>\n",
       "      <td>53.620000</td>\n",
       "    </tr>\n",
       "    <tr>\n",
       "      <th>75%</th>\n",
       "      <td>82.000000</td>\n",
       "      <td>63.630000</td>\n",
       "    </tr>\n",
       "    <tr>\n",
       "      <th>max</th>\n",
       "      <td>101.000000</td>\n",
       "      <td>89.290000</td>\n",
       "    </tr>\n",
       "  </tbody>\n",
       "</table>\n",
       "</div>"
      ],
      "text/plain": [
       "       Temperature  Ice Cream Profits\n",
       "count   365.000000         365.000000\n",
       "mean     71.980822          52.103616\n",
       "std      13.258510          15.989004\n",
       "min      39.000000          11.880000\n",
       "25%      63.000000          40.650000\n",
       "50%      73.000000          53.620000\n",
       "75%      82.000000          63.630000\n",
       "max     101.000000          89.290000"
      ]
     },
     "execution_count": 17,
     "metadata": {},
     "output_type": "execute_result"
    }
   ],
   "source": [
    "# Let's look at some statistical information about the dataframe.\n",
    "iceCreamSales.describe()"
   ]
  },
  {
   "cell_type": "code",
   "execution_count": 19,
   "metadata": {
    "tags": []
   },
   "outputs": [
    {
     "data": {
      "text/plain": [
       "count    365.000000\n",
       "mean      52.103616\n",
       "std       15.989004\n",
       "min       11.880000\n",
       "25%       40.650000\n",
       "50%       53.620000\n",
       "75%       63.630000\n",
       "max       89.290000\n",
       "Name: Ice Cream Profits, dtype: float64"
      ]
     },
     "execution_count": 19,
     "metadata": {},
     "output_type": "execute_result"
    }
   ],
   "source": [
    "iceCreamSales['Ice Cream Profits'].describe()"
   ]
  },
  {
   "cell_type": "code",
   "execution_count": 21,
   "metadata": {
    "tags": []
   },
   "outputs": [
    {
     "name": "stdout",
     "output_type": "stream",
     "text": [
      "============= Temperature =================\n"
     ]
    },
    {
     "data": {
      "text/plain": [
       "Temperature\n",
       "77    15\n",
       "66    14\n",
       "84    13\n",
       "68    12\n",
       "74    12\n",
       "      ..\n",
       "42     1\n",
       "97     1\n",
       "98     1\n",
       "41     1\n",
       "39     1\n",
       "Name: count, Length: 62, dtype: int64"
      ]
     },
     "metadata": {},
     "output_type": "display_data"
    },
    {
     "name": "stdout",
     "output_type": "stream",
     "text": [
      "\n",
      "============= Ice Cream Profits =================\n"
     ]
    },
    {
     "data": {
      "text/plain": [
       "Ice Cream Profits\n",
       "49.60    2\n",
       "61.82    2\n",
       "59.69    2\n",
       "68.28    2\n",
       "67.58    2\n",
       "        ..\n",
       "45.07    1\n",
       "44.98    1\n",
       "47.52    1\n",
       "44.48    1\n",
       "85.02    1\n",
       "Name: count, Length: 352, dtype: int64"
      ]
     },
     "metadata": {},
     "output_type": "display_data"
    },
    {
     "name": "stdout",
     "output_type": "stream",
     "text": [
      "\n"
     ]
    }
   ],
   "source": [
    "for column in iceCreamSales.columns:\n",
    "    print(f\"============= {column} =================\")\n",
    "    display(iceCreamSales[column].value_counts())\n",
    "    print()"
   ]
  },
  {
   "cell_type": "code",
   "execution_count": 25,
   "metadata": {
    "tags": []
   },
   "outputs": [
    {
     "data": {
      "text/html": [
       "<div>\n",
       "<style scoped>\n",
       "    .dataframe tbody tr th:only-of-type {\n",
       "        vertical-align: middle;\n",
       "    }\n",
       "\n",
       "    .dataframe tbody tr th {\n",
       "        vertical-align: top;\n",
       "    }\n",
       "\n",
       "    .dataframe thead th {\n",
       "        text-align: right;\n",
       "    }\n",
       "</style>\n",
       "<table border=\"1\" class=\"dataframe\">\n",
       "  <thead>\n",
       "    <tr style=\"text-align: right;\">\n",
       "      <th></th>\n",
       "      <th>Total</th>\n",
       "      <th>Percent</th>\n",
       "    </tr>\n",
       "  </thead>\n",
       "  <tbody>\n",
       "    <tr>\n",
       "      <th>Temperature</th>\n",
       "      <td>0</td>\n",
       "      <td>0.0</td>\n",
       "    </tr>\n",
       "    <tr>\n",
       "      <th>Ice Cream Profits</th>\n",
       "      <td>0</td>\n",
       "      <td>0.0</td>\n",
       "    </tr>\n",
       "  </tbody>\n",
       "</table>\n",
       "</div>"
      ],
      "text/plain": [
       "                   Total  Percent\n",
       "Temperature            0      0.0\n",
       "Ice Cream Profits      0      0.0"
      ]
     },
     "execution_count": 25,
     "metadata": {},
     "output_type": "execute_result"
    }
   ],
   "source": [
    "total = iceCreamSales.isnull().sum().sort_values(ascending=False)\n",
    "percent = (iceCreamSales.isnull().sum()/iceCreamSales.isnull().count()).sort_values(ascending=False)\n",
    "missing_data = pd.concat([total, percent], axis=1, keys=['Total', 'Percent'])\n",
    "missing_data.head(20)"
   ]
  },
  {
   "cell_type": "code",
   "execution_count": 27,
   "metadata": {
    "tags": []
   },
   "outputs": [
    {
     "data": {
      "text/plain": [
       "Temperature          0\n",
       "Ice Cream Profits    0\n",
       "dtype: int64"
      ]
     },
     "execution_count": 27,
     "metadata": {},
     "output_type": "execute_result"
    }
   ],
   "source": [
    "iceCreamSales.isna().sum()"
   ]
  },
  {
   "cell_type": "code",
   "execution_count": 29,
   "metadata": {
    "tags": []
   },
   "outputs": [
    {
     "data": {
      "text/plain": [
       "365"
      ]
     },
     "execution_count": 29,
     "metadata": {},
     "output_type": "execute_result"
    }
   ],
   "source": [
    "len(iceCreamSales)"
   ]
  },
  {
   "cell_type": "code",
   "execution_count": 31,
   "metadata": {
    "tags": []
   },
   "outputs": [
    {
     "data": {
      "text/html": [
       "<div>\n",
       "<style scoped>\n",
       "    .dataframe tbody tr th:only-of-type {\n",
       "        vertical-align: middle;\n",
       "    }\n",
       "\n",
       "    .dataframe tbody tr th {\n",
       "        vertical-align: top;\n",
       "    }\n",
       "\n",
       "    .dataframe thead th {\n",
       "        text-align: right;\n",
       "    }\n",
       "</style>\n",
       "<table border=\"1\" class=\"dataframe\">\n",
       "  <thead>\n",
       "    <tr style=\"text-align: right;\">\n",
       "      <th></th>\n",
       "      <th>Temperature</th>\n",
       "      <th>Ice Cream Profits</th>\n",
       "    </tr>\n",
       "  </thead>\n",
       "  <tbody>\n",
       "    <tr>\n",
       "      <th>227</th>\n",
       "      <td>77</td>\n",
       "      <td>56.33</td>\n",
       "    </tr>\n",
       "  </tbody>\n",
       "</table>\n",
       "</div>"
      ],
      "text/plain": [
       "     Temperature  Ice Cream Profits\n",
       "227           77              56.33"
      ]
     },
     "execution_count": 31,
     "metadata": {},
     "output_type": "execute_result"
    }
   ],
   "source": [
    "iceCreamSales[iceCreamSales[['Temperature', 'Ice Cream Profits']].duplicated()]"
   ]
  },
  {
   "cell_type": "code",
   "execution_count": 33,
   "metadata": {
    "tags": []
   },
   "outputs": [],
   "source": [
    "dfIceCreamSales = iceCreamSales.drop(iceCreamSales[iceCreamSales[['Temperature', 'Ice Cream Profits']].duplicated()].index).reset_index(drop=True)"
   ]
  },
  {
   "cell_type": "code",
   "execution_count": 35,
   "metadata": {
    "tags": []
   },
   "outputs": [
    {
     "data": {
      "text/html": [
       "<div>\n",
       "<style scoped>\n",
       "    .dataframe tbody tr th:only-of-type {\n",
       "        vertical-align: middle;\n",
       "    }\n",
       "\n",
       "    .dataframe tbody tr th {\n",
       "        vertical-align: top;\n",
       "    }\n",
       "\n",
       "    .dataframe thead th {\n",
       "        text-align: right;\n",
       "    }\n",
       "</style>\n",
       "<table border=\"1\" class=\"dataframe\">\n",
       "  <thead>\n",
       "    <tr style=\"text-align: right;\">\n",
       "      <th></th>\n",
       "      <th>Temperature</th>\n",
       "      <th>Ice Cream Profits</th>\n",
       "    </tr>\n",
       "  </thead>\n",
       "  <tbody>\n",
       "  </tbody>\n",
       "</table>\n",
       "</div>"
      ],
      "text/plain": [
       "Empty DataFrame\n",
       "Columns: [Temperature, Ice Cream Profits]\n",
       "Index: []"
      ]
     },
     "execution_count": 35,
     "metadata": {},
     "output_type": "execute_result"
    }
   ],
   "source": [
    "dfIceCreamSales[dfIceCreamSales[['Temperature', 'Ice Cream Profits']].duplicated()]"
   ]
  },
  {
   "cell_type": "code",
   "execution_count": 37,
   "metadata": {
    "tags": []
   },
   "outputs": [
    {
     "data": {
      "text/html": [
       "<div>\n",
       "<style scoped>\n",
       "    .dataframe tbody tr th:only-of-type {\n",
       "        vertical-align: middle;\n",
       "    }\n",
       "\n",
       "    .dataframe tbody tr th {\n",
       "        vertical-align: top;\n",
       "    }\n",
       "\n",
       "    .dataframe thead th {\n",
       "        text-align: right;\n",
       "    }\n",
       "</style>\n",
       "<table border=\"1\" class=\"dataframe\">\n",
       "  <thead>\n",
       "    <tr style=\"text-align: right;\">\n",
       "      <th></th>\n",
       "      <th>Temperature</th>\n",
       "      <th>Ice Cream Profits</th>\n",
       "    </tr>\n",
       "  </thead>\n",
       "  <tbody>\n",
       "    <tr>\n",
       "      <th>0</th>\n",
       "      <td>39</td>\n",
       "      <td>13.17</td>\n",
       "    </tr>\n",
       "    <tr>\n",
       "      <th>1</th>\n",
       "      <td>40</td>\n",
       "      <td>11.88</td>\n",
       "    </tr>\n",
       "    <tr>\n",
       "      <th>2</th>\n",
       "      <td>41</td>\n",
       "      <td>18.82</td>\n",
       "    </tr>\n",
       "    <tr>\n",
       "      <th>3</th>\n",
       "      <td>42</td>\n",
       "      <td>18.65</td>\n",
       "    </tr>\n",
       "    <tr>\n",
       "      <th>4</th>\n",
       "      <td>43</td>\n",
       "      <td>17.02</td>\n",
       "    </tr>\n",
       "    <tr>\n",
       "      <th>...</th>\n",
       "      <td>...</td>\n",
       "      <td>...</td>\n",
       "    </tr>\n",
       "    <tr>\n",
       "      <th>359</th>\n",
       "      <td>99</td>\n",
       "      <td>85.13</td>\n",
       "    </tr>\n",
       "    <tr>\n",
       "      <th>360</th>\n",
       "      <td>99</td>\n",
       "      <td>87.08</td>\n",
       "    </tr>\n",
       "    <tr>\n",
       "      <th>361</th>\n",
       "      <td>99</td>\n",
       "      <td>89.29</td>\n",
       "    </tr>\n",
       "    <tr>\n",
       "      <th>362</th>\n",
       "      <td>101</td>\n",
       "      <td>81.91</td>\n",
       "    </tr>\n",
       "    <tr>\n",
       "      <th>363</th>\n",
       "      <td>101</td>\n",
       "      <td>85.02</td>\n",
       "    </tr>\n",
       "  </tbody>\n",
       "</table>\n",
       "<p>364 rows × 2 columns</p>\n",
       "</div>"
      ],
      "text/plain": [
       "     Temperature  Ice Cream Profits\n",
       "0             39              13.17\n",
       "1             40              11.88\n",
       "2             41              18.82\n",
       "3             42              18.65\n",
       "4             43              17.02\n",
       "..           ...                ...\n",
       "359           99              85.13\n",
       "360           99              87.08\n",
       "361           99              89.29\n",
       "362          101              81.91\n",
       "363          101              85.02\n",
       "\n",
       "[364 rows x 2 columns]"
      ]
     },
     "execution_count": 37,
     "metadata": {},
     "output_type": "execute_result"
    }
   ],
   "source": [
    "dfIceCreamSales"
   ]
  },
  {
   "cell_type": "code",
   "execution_count": 39,
   "metadata": {
    "tags": []
   },
   "outputs": [
    {
     "data": {
      "text/plain": [
       "array([ 39,  40,  41,  42,  43,  44,  45,  46,  47,  48,  49,  50,  51,\n",
       "        52,  53,  54,  55,  56,  57,  58,  59,  60,  61,  62,  63,  64,\n",
       "        65,  66,  67,  68,  69,  70,  71,  72,  73,  74,  75,  76,  77,\n",
       "        78,  79,  80,  81,  82,  83,  84,  85,  86,  87,  88,  89,  90,\n",
       "        91,  92,  93,  94,  95,  96,  97,  98,  99, 101], dtype=int64)"
      ]
     },
     "execution_count": 39,
     "metadata": {},
     "output_type": "execute_result"
    }
   ],
   "source": [
    "dfIceCreamSales['Temperature'].unique()"
   ]
  },
  {
   "cell_type": "code",
   "execution_count": 41,
   "metadata": {
    "tags": []
   },
   "outputs": [
    {
     "data": {
      "text/plain": [
       "False"
      ]
     },
     "execution_count": 41,
     "metadata": {},
     "output_type": "execute_result"
    }
   ],
   "source": [
    "dfIceCreamSales['Temperature'].is_unique"
   ]
  },
  {
   "cell_type": "code",
   "execution_count": 43,
   "metadata": {
    "tags": []
   },
   "outputs": [
    {
     "data": {
      "text/plain": [
       "array([13.17, 11.88, 18.82, 18.65, 17.02, 15.88, 19.07, 19.57, 21.62,\n",
       "       22.34, 19.23, 21.25, 19.81, 22.12, 24.22, 24.68, 23.78, 26.41,\n",
       "       25.01, 22.29, 27.81, 23.54, 22.89, 25.68, 27.29, 27.64, 27.31,\n",
       "       21.93, 32.18, 30.67, 28.05, 28.82, 27.87, 29.39, 32.6 , 31.62,\n",
       "       25.71, 28.48, 30.09, 33.58, 29.75, 31.94, 33.71, 28.37, 27.41,\n",
       "       27.99, 30.37, 27.68, 29.53, 33.91, 34.19, 33.22, 34.47, 30.89,\n",
       "       35.8 , 33.44, 36.79, 31.56, 35.13, 36.11, 32.39, 38.18, 29.69,\n",
       "       38.47, 37.74, 36.71, 32.29, 37.5 , 35.33, 35.06, 36.25, 40.25,\n",
       "       39.69, 40.95, 37.96, 38.1 , 38.21, 37.3 , 39.53, 37.42, 39.42,\n",
       "       38.16, 37.66, 39.04, 41.44, 40.19, 37.93, 50.17, 44.15, 41.58,\n",
       "       40.59, 39.17, 40.57, 40.28, 41.21, 44.85, 40.94, 40.14, 38.57,\n",
       "       44.07, 44.1 , 47.36, 45.38, 41.09, 43.78, 42.72, 42.1 , 43.28,\n",
       "       44.31, 42.71, 43.03, 42.16, 46.74, 47.68, 44.48, 47.52, 44.98,\n",
       "       45.07, 45.42, 48.26, 51.75, 45.05, 40.65, 48.65, 45.26, 46.04,\n",
       "       42.94, 50.62, 45.65, 49.37, 45.89, 50.74, 47.17, 49.6 , 41.68,\n",
       "       46.9 , 47.35, 47.73, 43.73, 47.47, 51.38, 41.74, 49.88, 47.78,\n",
       "       42.5 , 48.77, 49.46, 50.87, 49.12, 49.95, 50.31, 49.32, 52.67,\n",
       "       52.05, 48.82, 53.33, 54.59, 53.77, 52.17, 53.04, 49.34, 55.04,\n",
       "       57.18, 51.26, 53.78, 51.55, 50.01, 53.59, 52.47, 48.96, 53.57,\n",
       "       50.79, 52.13, 52.42, 54.67, 51.82, 53.21, 54.4 , 55.01, 54.08,\n",
       "       53.97, 55.28, 54.36, 53.62, 50.65, 55.52, 58.61, 50.64, 54.28,\n",
       "       53.95, 53.44, 57.1 , 54.26, 55.34, 53.71, 57.84, 55.91, 58.62,\n",
       "       58.85, 52.84, 56.59, 59.43, 59.69, 53.83, 59.41, 53.17, 53.48,\n",
       "       59.94, 60.31, 60.33, 53.82, 53.07, 59.48, 54.1 , 56.33, 59.87,\n",
       "       60.75, 56.43, 60.86, 55.07, 58.39, 58.72, 57.52, 57.47, 58.13,\n",
       "       60.46, 60.89, 62.58, 61.22, 59.62, 58.31, 59.12, 57.93, 57.25,\n",
       "       62.2 , 59.7 , 64.82, 57.06, 62.52, 59.93, 61.71, 59.49, 67.42,\n",
       "       56.34, 57.44, 64.63, 55.47, 62.79, 59.91, 61.59, 63.46, 64.45,\n",
       "       65.42, 61.82, 64.36, 58.11, 59.47, 65.86, 61.52, 62.12, 64.23,\n",
       "       62.36, 62.32, 64.97, 66.15, 64.02, 63.41, 61.85, 65.49, 64.39,\n",
       "       66.06, 64.86, 62.85, 66.57, 65.54, 63.29, 64.38, 60.78, 65.66,\n",
       "       66.61, 65.12, 63.13, 63.35, 65.4 , 65.41, 68.28, 64.1 , 66.26,\n",
       "       63.63, 67.58, 68.54, 65.2 , 67.93, 67.88, 69.71, 64.22, 62.99,\n",
       "       64.96, 65.99, 70.3 , 64.31, 69.59, 68.35, 69.66, 71.46, 69.9 ,\n",
       "       69.19, 67.97, 64.85, 70.43, 68.48, 70.29, 65.19, 68.  , 70.64,\n",
       "       69.67, 74.69, 69.78, 73.16, 71.51, 73.32, 74.09, 71.12, 77.39,\n",
       "       75.11, 74.8 , 73.94, 75.94, 79.31, 81.81, 75.58, 78.2 , 75.6 ,\n",
       "       75.04, 77.41, 79.76, 77.18, 80.94, 75.7 , 80.75, 80.97, 80.98,\n",
       "       80.02, 82.83, 80.95, 82.5 , 84.12, 85.13, 87.08, 89.29, 81.91,\n",
       "       85.02])"
      ]
     },
     "execution_count": 43,
     "metadata": {},
     "output_type": "execute_result"
    }
   ],
   "source": [
    "dfIceCreamSales['Ice Cream Profits'].unique()"
   ]
  },
  {
   "cell_type": "code",
   "execution_count": 45,
   "metadata": {
    "tags": []
   },
   "outputs": [
    {
     "data": {
      "text/plain": [
       "False"
      ]
     },
     "execution_count": 45,
     "metadata": {},
     "output_type": "execute_result"
    }
   ],
   "source": [
    "dfIceCreamSales['Ice Cream Profits'].is_unique"
   ]
  },
  {
   "cell_type": "markdown",
   "metadata": {
    "id": "4tkuFialBW52"
   },
   "source": [
    "# Visualising Data Using Plot"
   ]
  },
  {
   "cell_type": "code",
   "execution_count": 158,
   "metadata": {
    "colab": {
     "base_uri": "https://localhost:8080/",
     "height": 297
    },
    "id": "3mEiKmvYCk8S",
    "outputId": "0fd94a12-8a44-4c99-fe22-13b786d02b61",
    "tags": []
   },
   "outputs": [
    {
     "data": {
      "text/plain": [
       "<Axes: xlabel='Temperature', ylabel='Ice Cream Profits'>"
      ]
     },
     "execution_count": 158,
     "metadata": {},
     "output_type": "execute_result"
    },
    {
     "data": {
      "image/png": "[encoded data removed]",
      "text/plain": [
       "<Figure size 640x480 with 1 Axes>"
      ]
     },
     "metadata": {},
     "output_type": "display_data"
    }
   ],
   "source": [
    "# Visualise the relationship between the features and the response using scatterplots\n",
    "dfIceCreamSales.plot(x='Temperature',y='Ice Cream Profits',kind='scatter')"
   ]
  },
  {
   "cell_type": "code",
   "execution_count": 160,
   "metadata": {
    "tags": []
   },
   "outputs": [
    {
     "data": {
      "text/plain": [
       "0       39\n",
       "1       40\n",
       "2       41\n",
       "3       42\n",
       "4       43\n",
       "      ... \n",
       "359     99\n",
       "360     99\n",
       "361     99\n",
       "362    101\n",
       "363    101\n",
       "Name: Temperature, Length: 364, dtype: int64"
      ]
     },
     "execution_count": 160,
     "metadata": {},
     "output_type": "execute_result"
    }
   ],
   "source": [
    "# Putting feature variable to temp\n",
    "temp = dfIceCreamSales['Temperature']\n",
    "\n",
    "# Print the first 5 rows\n",
    "temp"
   ]
  },
  {
   "cell_type": "code",
   "execution_count": 162,
   "metadata": {
    "tags": []
   },
   "outputs": [
    {
     "data": {
      "text/plain": [
       "0       3\n",
       "1       4\n",
       "2       5\n",
       "3       5\n",
       "4       6\n",
       "       ..\n",
       "359    37\n",
       "360    37\n",
       "361    37\n",
       "362    38\n",
       "363    38\n",
       "Name: Temperature, Length: 364, dtype: int32"
      ]
     },
     "execution_count": 162,
     "metadata": {},
     "output_type": "execute_result"
    }
   ],
   "source": [
    "# Convert dari Fahrenheit ke Celcius\n",
    "XCelcius = (temp-32)*5/9\n",
    "tempCel = XCelcius.astype(int)\n",
    "tempCel"
   ]
  },
  {
   "cell_type": "code",
   "execution_count": 164,
   "metadata": {
    "tags": []
   },
   "outputs": [
    {
     "data": {
      "text/plain": [
       "array([[0.        , 0.01666451],\n",
       "       [0.01612903, 0.        ],\n",
       "       [0.03225806, 0.0896525 ],\n",
       "       [0.0483871 , 0.0874564 ],\n",
       "       [0.06451613, 0.06639969],\n",
       "       [0.06451613, 0.05167291],\n",
       "       [0.08064516, 0.09288206],\n",
       "       [0.08064516, 0.09934117],\n",
       "       [0.09677419, 0.12582354],\n",
       "       [0.09677419, 0.13512466],\n",
       "       [0.09677419, 0.09494897],\n",
       "       [0.11290323, 0.12104379],\n",
       "       [0.11290323, 0.10244155],\n",
       "       [0.12903226, 0.13228265],\n",
       "       [0.14516129, 0.15941093],\n",
       "       [0.14516129, 0.16535331],\n",
       "       [0.14516129, 0.15372691],\n",
       "       [0.14516129, 0.18770185],\n",
       "       [0.14516129, 0.16961633],\n",
       "       [0.14516129, 0.13447875],\n",
       "       [0.16129032, 0.20578737],\n",
       "       [0.16129032, 0.15062653],\n",
       "       [0.17741935, 0.14222969],\n",
       "       [0.17741935, 0.17827154],\n",
       "       [0.17741935, 0.19906989],\n",
       "       [0.17741935, 0.20359127],\n",
       "       [0.17741935, 0.19932825],\n",
       "       [0.19354839, 0.12982819],\n",
       "       [0.19354839, 0.26224002],\n",
       "       [0.20967742, 0.2427335 ],\n",
       "       [0.20967742, 0.20888774],\n",
       "       [0.20967742, 0.21883478],\n",
       "       [0.20967742, 0.20656246],\n",
       "       [0.20967742, 0.22619817],\n",
       "       [0.22580645, 0.26766568],\n",
       "       [0.22580645, 0.25500581],\n",
       "       [0.22580645, 0.17865909],\n",
       "       [0.22580645, 0.21444258],\n",
       "       [0.24193548, 0.23524092],\n",
       "       [0.24193548, 0.28032554],\n",
       "       [0.24193548, 0.23084873],\n",
       "       [0.24193548, 0.25913965],\n",
       "       [0.24193548, 0.28200491],\n",
       "       [0.24193548, 0.21302157],\n",
       "       [0.24193548, 0.20062007],\n",
       "       [0.24193548, 0.20811265],\n",
       "       [0.24193548, 0.23885803],\n",
       "       [0.25806452, 0.204108  ],\n",
       "       [0.25806452, 0.22800672],\n",
       "       [0.25806452, 0.28458855],\n",
       "       [0.25806452, 0.28820566],\n",
       "       [0.27419355, 0.27567498],\n",
       "       [0.27419355, 0.29182276],\n",
       "       [0.29032258, 0.24557551],\n",
       "       [0.29032258, 0.309004  ],\n",
       "       [0.30645161, 0.27851699],\n",
       "       [0.30645161, 0.32179305],\n",
       "       [0.30645161, 0.25423072],\n",
       "       [0.30645161, 0.30034879],\n",
       "       [0.30645161, 0.31300866],\n",
       "       [0.30645161, 0.26495285],\n",
       "       [0.32258065, 0.33974939],\n",
       "       [0.32258065, 0.23007363],\n",
       "       [0.32258065, 0.34349567],\n",
       "       [0.32258065, 0.33406537],\n",
       "       [0.32258065, 0.32075959],\n",
       "       [0.32258065, 0.26366103],\n",
       "       [0.32258065, 0.33096499],\n",
       "       [0.32258065, 0.30293244],\n",
       "       [0.33870968, 0.29944452],\n",
       "       [0.33870968, 0.31481721],\n",
       "       [0.33870968, 0.36649012],\n",
       "       [0.33870968, 0.35925591],\n",
       "       [0.33870968, 0.37553288],\n",
       "       [0.35483871, 0.33690738],\n",
       "       [0.35483871, 0.33871593],\n",
       "       [0.35483871, 0.34013693],\n",
       "       [0.35483871, 0.32838135],\n",
       "       [0.35483871, 0.35718899],\n",
       "       [0.35483871, 0.32993153],\n",
       "       [0.35483871, 0.35576799],\n",
       "       [0.35483871, 0.33949102],\n",
       "       [0.35483871, 0.33303191],\n",
       "       [0.37096774, 0.35085906],\n",
       "       [0.37096774, 0.38186281],\n",
       "       [0.37096774, 0.36571502],\n",
       "       [0.37096774, 0.33651983],\n",
       "       [0.38709677, 0.49463894],\n",
       "       [0.38709677, 0.41687121],\n",
       "       [0.38709677, 0.38367136],\n",
       "       [0.38709677, 0.37088231],\n",
       "       [0.38709677, 0.35253843],\n",
       "       [0.40322581, 0.37062395],\n",
       "       [0.40322581, 0.36687766],\n",
       "       [0.40322581, 0.37889162],\n",
       "       [0.40322581, 0.42591396],\n",
       "       [0.40322581, 0.37540369],\n",
       "       [0.40322581, 0.36506911],\n",
       "       [0.40322581, 0.3447875 ],\n",
       "       [0.40322581, 0.41583775],\n",
       "       [0.40322581, 0.41622529],\n",
       "       [0.41935484, 0.45833872],\n",
       "       [0.41935484, 0.43276063],\n",
       "       [0.41935484, 0.37734143],\n",
       "       [0.41935484, 0.41209146],\n",
       "       [0.41935484, 0.39839814],\n",
       "       [0.41935484, 0.39038884],\n",
       "       [0.41935484, 0.40563235],\n",
       "       [0.41935484, 0.41893812],\n",
       "       [0.41935484, 0.39826896],\n",
       "       [0.43548387, 0.40240279],\n",
       "       [0.43548387, 0.39116393],\n",
       "       [0.43548387, 0.45032941],\n",
       "       [0.43548387, 0.46247255],\n",
       "       [0.43548387, 0.42113422],\n",
       "       [0.43548387, 0.46040563],\n",
       "       [0.43548387, 0.42759333],\n",
       "       [0.43548387, 0.42875597],\n",
       "       [0.43548387, 0.43327735],\n",
       "       [0.43548387, 0.45833872],\n",
       "       [0.43548387, 0.46996512],\n",
       "       [0.43548387, 0.51504974],\n",
       "       [0.43548387, 0.42849761],\n",
       "       [0.43548387, 0.37165741],\n",
       "       [0.4516129 , 0.47500323],\n",
       "       [0.4516129 , 0.43121044],\n",
       "       [0.4516129 , 0.44128666],\n",
       "       [0.4516129 , 0.42591396],\n",
       "       [0.4516129 , 0.40124015],\n",
       "       [0.4516129 , 0.50045214],\n",
       "       [0.46774194, 0.43624855],\n",
       "       [0.46774194, 0.48430435],\n",
       "       [0.46774194, 0.43934892],\n",
       "       [0.46774194, 0.50200233],\n",
       "       [0.46774194, 0.45588425],\n",
       "       [0.46774194, 0.48727555],\n",
       "       [0.46774194, 0.38496318],\n",
       "       [0.46774194, 0.45239633],\n",
       "       [0.46774194, 0.45820953],\n",
       "       [0.46774194, 0.46311846],\n",
       "       [0.46774194, 0.41144555],\n",
       "       [0.46774194, 0.45975972],\n",
       "       [0.48387097, 0.51026999],\n",
       "       [0.48387097, 0.38573828],\n",
       "       [0.48387097, 0.49089265],\n",
       "       [0.48387097, 0.46376437],\n",
       "       [0.48387097, 0.39555613],\n",
       "       [0.48387097, 0.47655342],\n",
       "       [0.5       , 0.48546699],\n",
       "       [0.5       , 0.50368169],\n",
       "       [0.5       , 0.4810748 ],\n",
       "       [0.5       , 0.49179693],\n",
       "       [0.5       , 0.49644749],\n",
       "       [0.5       , 0.48365844],\n",
       "       [0.5       , 0.5269345 ],\n",
       "       [0.5       , 0.5189252 ],\n",
       "       [0.5       , 0.47719933],\n",
       "       [0.51612903, 0.53546053],\n",
       "       [0.51612903, 0.5517375 ],\n",
       "       [0.51612903, 0.54114455],\n",
       "       [0.51612903, 0.48727555],\n",
       "       [0.51612903, 0.52047539],\n",
       "       [0.51612903, 0.45032941],\n",
       "       [0.51612903, 0.53171425],\n",
       "       [0.51612903, 0.48391681],\n",
       "       [0.51612903, 0.5575507 ],\n",
       "       [0.53225806, 0.58519571],\n",
       "       [0.53225806, 0.5087198 ],\n",
       "       [0.53225806, 0.54127374],\n",
       "       [0.53225806, 0.51246609],\n",
       "       [0.53225806, 0.49257202],\n",
       "       [0.53225806, 0.53881927],\n",
       "       [0.53225806, 0.52435086],\n",
       "       [0.53225806, 0.47900788],\n",
       "       [0.53225806, 0.53856091],\n",
       "       [0.53225806, 0.50264824],\n",
       "       [0.5483871 , 0.51995866],\n",
       "       [0.5483871 , 0.52370495],\n",
       "       [0.5483871 , 0.55277096],\n",
       "       [0.5483871 , 0.51595401],\n",
       "       [0.5483871 , 0.53391035],\n",
       "       [0.5483871 , 0.54928304],\n",
       "       [0.5483871 , 0.55716316],\n",
       "       [0.5483871 , 0.54514921],\n",
       "       [0.5483871 , 0.5437282 ],\n",
       "       [0.56451613, 0.56065108],\n",
       "       [0.56451613, 0.54876631],\n",
       "       [0.56451613, 0.53920682],\n",
       "       [0.56451613, 0.50083968],\n",
       "       [0.56451613, 0.56375145],\n",
       "       [0.56451613, 0.60366878],\n",
       "       [0.56451613, 0.5007105 ],\n",
       "       [0.56451613, 0.54773285],\n",
       "       [0.56451613, 0.54346984],\n",
       "       [0.56451613, 0.53688154],\n",
       "       [0.56451613, 0.58416225],\n",
       "       [0.56451613, 0.54747449],\n",
       "       [0.58064516, 0.56142617],\n",
       "       [0.58064516, 0.54036946],\n",
       "       [0.58064516, 0.59372174],\n",
       "       [0.58064516, 0.56878956],\n",
       "       [0.58064516, 0.60379796],\n",
       "       [0.58064516, 0.60676915],\n",
       "       [0.59677419, 0.5291306 ],\n",
       "       [0.59677419, 0.57757396],\n",
       "       [0.59677419, 0.61426172],\n",
       "       [0.59677419, 0.61762046],\n",
       "       [0.59677419, 0.54191965],\n",
       "       [0.59677419, 0.61400336],\n",
       "       [0.59677419, 0.53339362],\n",
       "       [0.59677419, 0.53739827],\n",
       "       [0.59677419, 0.62085002],\n",
       "       [0.59677419, 0.62562976],\n",
       "       [0.59677419, 0.62588813],\n",
       "       [0.61290323, 0.54179047],\n",
       "       [0.61290323, 0.5321018 ],\n",
       "       [0.61290323, 0.61490763],\n",
       "       [0.61290323, 0.54540757],\n",
       "       [0.61290323, 0.57421522],\n",
       "       [0.61290323, 0.61994574],\n",
       "       [0.61290323, 0.63131378],\n",
       "       [0.61290323, 0.57550704],\n",
       "       [0.61290323, 0.63273479],\n",
       "       [0.61290323, 0.55793825],\n",
       "       [0.61290323, 0.60082677],\n",
       "       [0.61290323, 0.60508978],\n",
       "       [0.61290323, 0.58958791],\n",
       "       [0.61290323, 0.588942  ],\n",
       "       [0.62903226, 0.59746803],\n",
       "       [0.62903226, 0.6275675 ],\n",
       "       [0.62903226, 0.62588813],\n",
       "       [0.62903226, 0.63312234],\n",
       "       [0.62903226, 0.65495414],\n",
       "       [0.62903226, 0.63738535],\n",
       "       [0.62903226, 0.61671619],\n",
       "       [0.62903226, 0.59979331],\n",
       "       [0.62903226, 0.61025707],\n",
       "       [0.62903226, 0.59488438],\n",
       "       [0.62903226, 0.58609999],\n",
       "       [0.62903226, 0.65004521],\n",
       "       [0.64516129, 0.61774964],\n",
       "       [0.64516129, 0.68389097],\n",
       "       [0.64516129, 0.58364552],\n",
       "       [0.64516129, 0.65417905],\n",
       "       [0.64516129, 0.62072084],\n",
       "       [0.64516129, 0.64371528],\n",
       "       [0.64516129, 0.61503682],\n",
       "       [0.64516129, 0.71747836],\n",
       "       [0.64516129, 0.5743444 ],\n",
       "       [0.64516129, 0.61762046],\n",
       "       [0.64516129, 0.58855445],\n",
       "       [0.64516129, 0.68143651],\n",
       "       [0.66129032, 0.56310554],\n",
       "       [0.66129032, 0.63738535],\n",
       "       [0.66129032, 0.65766697],\n",
       "       [0.66129032, 0.62046247],\n",
       "       [0.66129032, 0.64216509],\n",
       "       [0.66129032, 0.66632218],\n",
       "       [0.66129032, 0.67911123],\n",
       "       [0.66129032, 0.69164191],\n",
       "       [0.66129032, 0.64513629],\n",
       "       [0.67741935, 0.67794859],\n",
       "       [0.67741935, 0.59720966],\n",
       "       [0.67741935, 0.61477845],\n",
       "       [0.67741935, 0.69732593],\n",
       "       [0.67741935, 0.64126082],\n",
       "       [0.67741935, 0.64901176],\n",
       "       [0.67741935, 0.67626922],\n",
       "       [0.67741935, 0.65211213],\n",
       "       [0.67741935, 0.6515954 ],\n",
       "       [0.69354839, 0.6858287 ],\n",
       "       [0.69354839, 0.70107221],\n",
       "       [0.69354839, 0.67355639],\n",
       "       [0.69354839, 0.66567627],\n",
       "       [0.69354839, 0.64552383],\n",
       "       [0.69354839, 0.69254618],\n",
       "       [0.69354839, 0.67833613],\n",
       "       [0.69354839, 0.69990957],\n",
       "       [0.69354839, 0.6844077 ],\n",
       "       [0.69354839, 0.65844206],\n",
       "       [0.69354839, 0.70649787],\n",
       "       [0.70967742, 0.69319209],\n",
       "       [0.70967742, 0.65495414],\n",
       "       [0.70967742, 0.66412608],\n",
       "       [0.70967742, 0.67820695],\n",
       "       [0.70967742, 0.63170133],\n",
       "       [0.70967742, 0.69474228],\n",
       "       [0.72580645, 0.7070146 ],\n",
       "       [0.72580645, 0.68776644],\n",
       "       [0.72580645, 0.66205917],\n",
       "       [0.72580645, 0.66490118],\n",
       "       [0.72580645, 0.69138354],\n",
       "       [0.72580645, 0.69151272],\n",
       "       [0.72580645, 0.72858804],\n",
       "       [0.72580645, 0.67458985],\n",
       "       [0.72580645, 0.70249322],\n",
       "       [0.72580645, 0.66851828],\n",
       "       [0.72580645, 0.71954528],\n",
       "       [0.72580645, 0.73194678],\n",
       "       [0.72580645, 0.6887999 ],\n",
       "       [0.74193548, 0.72406666],\n",
       "       [0.74193548, 0.72342075],\n",
       "       [0.74193548, 0.7470611 ],\n",
       "       [0.74193548, 0.67614003],\n",
       "       [0.74193548, 0.64513629],\n",
       "       [0.74193548, 0.72858804],\n",
       "       [0.74193548, 0.66025061],\n",
       "       [0.74193548, 0.68569952],\n",
       "       [0.74193548, 0.6990053 ],\n",
       "       [0.74193548, 0.75468286],\n",
       "       [0.74193548, 0.67730267],\n",
       "       [0.75806452, 0.74551092],\n",
       "       [0.75806452, 0.72949231],\n",
       "       [0.75806452, 0.74641519],\n",
       "       [0.75806452, 0.769668  ],\n",
       "       [0.75806452, 0.74951557],\n",
       "       [0.75806452, 0.74034362],\n",
       "       [0.75806452, 0.72458339],\n",
       "       [0.75806452, 0.68427852],\n",
       "       [0.77419355, 0.75636223],\n",
       "       [0.77419355, 0.73117168],\n",
       "       [0.77419355, 0.75455368],\n",
       "       [0.77419355, 0.68867071],\n",
       "       [0.77419355, 0.72497093],\n",
       "       [0.77419355, 0.75907505],\n",
       "       [0.79032258, 0.74654437],\n",
       "       [0.79032258, 0.81139388],\n",
       "       [0.79032258, 0.74796538],\n",
       "       [0.80645161, 0.79162899],\n",
       "       [0.80645161, 0.77031391],\n",
       "       [0.80645161, 0.7936959 ],\n",
       "       [0.80645161, 0.80364294],\n",
       "       [0.82258065, 0.7652758 ],\n",
       "       [0.82258065, 0.71954528],\n",
       "       [0.82258065, 0.84627309],\n",
       "       [0.82258065, 0.81681953],\n",
       "       [0.82258065, 0.81281488],\n",
       "       [0.82258065, 0.80170521],\n",
       "       [0.82258065, 0.82754166],\n",
       "       [0.83870968, 0.87107609],\n",
       "       [0.83870968, 0.90337166],\n",
       "       [0.83870968, 0.8228911 ],\n",
       "       [0.85483871, 0.85673686],\n",
       "       [0.85483871, 0.82314946],\n",
       "       [0.85483871, 0.81591526],\n",
       "       [0.85483871, 0.84653146],\n",
       "       [0.87096774, 0.87688929],\n",
       "       [0.87096774, 0.84356026],\n",
       "       [0.88709677, 0.8921328 ],\n",
       "       [0.88709677, 0.82444129],\n",
       "       [0.90322581, 0.85673686],\n",
       "       [0.90322581, 0.88967834],\n",
       "       [0.90322581, 0.89252035],\n",
       "       [0.90322581, 0.89264953],\n",
       "       [0.91935484, 0.88024803],\n",
       "       [0.91935484, 0.91654825],\n",
       "       [0.91935484, 0.89226198],\n",
       "       [0.93548387, 0.91228523],\n",
       "       [0.9516129 , 0.93321276],\n",
       "       [0.96774194, 0.94626017],\n",
       "       [0.96774194, 0.97145072],\n",
       "       [0.96774194, 1.        ],\n",
       "       [1.        , 0.90466348],\n",
       "       [1.        , 0.94483917]])"
      ]
     },
     "execution_count": 164,
     "metadata": {},
     "output_type": "execute_result"
    }
   ],
   "source": [
    "import numpy as np\n",
    "from sklearn import preprocessing\n",
    "\n",
    "preprocessor = preprocessing.MinMaxScaler(feature_range=(0, 1))\n",
    "#preprocessor.fit(dfIceCreamSales)\n",
    "#scaled_data = preprocessor.transform(sample_data)\n",
    "#scaled_data\n",
    "\n",
    "scaled_IceCreamSales = preprocessor.fit_transform(dfIceCreamSales) # fit dan transform sekaligus\n",
    "scaled_IceCreamSales"
   ]
  },
  {
   "cell_type": "code",
   "execution_count": 166,
   "metadata": {
    "tags": []
   },
   "outputs": [
    {
     "data": {
      "text/html": [
       "<div>\n",
       "<style scoped>\n",
       "    .dataframe tbody tr th:only-of-type {\n",
       "        vertical-align: middle;\n",
       "    }\n",
       "\n",
       "    .dataframe tbody tr th {\n",
       "        vertical-align: top;\n",
       "    }\n",
       "\n",
       "    .dataframe thead th {\n",
       "        text-align: right;\n",
       "    }\n",
       "</style>\n",
       "<table border=\"1\" class=\"dataframe\">\n",
       "  <thead>\n",
       "    <tr style=\"text-align: right;\">\n",
       "      <th></th>\n",
       "      <th>Temperature</th>\n",
       "      <th>Ice Cream Profits</th>\n",
       "    </tr>\n",
       "  </thead>\n",
       "  <tbody>\n",
       "    <tr>\n",
       "      <th>count</th>\n",
       "      <td>364.000000</td>\n",
       "      <td>364.000000</td>\n",
       "    </tr>\n",
       "    <tr>\n",
       "      <th>mean</th>\n",
       "      <td>0.531726</td>\n",
       "      <td>0.519468</td>\n",
       "    </tr>\n",
       "    <tr>\n",
       "      <th>std</th>\n",
       "      <td>0.214099</td>\n",
       "      <td>0.206814</td>\n",
       "    </tr>\n",
       "    <tr>\n",
       "      <th>min</th>\n",
       "      <td>0.000000</td>\n",
       "      <td>0.000000</td>\n",
       "    </tr>\n",
       "    <tr>\n",
       "      <th>25%</th>\n",
       "      <td>0.387097</td>\n",
       "      <td>0.371464</td>\n",
       "    </tr>\n",
       "    <tr>\n",
       "      <th>50%</th>\n",
       "      <td>0.548387</td>\n",
       "      <td>0.539013</td>\n",
       "    </tr>\n",
       "    <tr>\n",
       "      <th>75%</th>\n",
       "      <td>0.693548</td>\n",
       "      <td>0.669778</td>\n",
       "    </tr>\n",
       "    <tr>\n",
       "      <th>max</th>\n",
       "      <td>1.000000</td>\n",
       "      <td>1.000000</td>\n",
       "    </tr>\n",
       "  </tbody>\n",
       "</table>\n",
       "</div>"
      ],
      "text/plain": [
       "       Temperature  Ice Cream Profits\n",
       "count   364.000000         364.000000\n",
       "mean      0.531726           0.519468\n",
       "std       0.214099           0.206814\n",
       "min       0.000000           0.000000\n",
       "25%       0.387097           0.371464\n",
       "50%       0.548387           0.539013\n",
       "75%       0.693548           0.669778\n",
       "max       1.000000           1.000000"
      ]
     },
     "execution_count": 166,
     "metadata": {},
     "output_type": "execute_result"
    }
   ],
   "source": [
    "scaled_dfIceCreamSales = pd.DataFrame(scaled_IceCreamSales, columns=dfIceCreamSales.columns)\n",
    "scaled_dfIceCreamSales.describe()"
   ]
  },
  {
   "cell_type": "code",
   "execution_count": 168,
   "metadata": {
    "tags": []
   },
   "outputs": [
    {
     "data": {
      "text/plain": [
       "<Axes: xlabel='Temperature', ylabel='Ice Cream Profits'>"
      ]
     },
     "execution_count": 168,
     "metadata": {},
     "output_type": "execute_result"
    },
    {
     "data": {
      "image/png": "[encoded data removed]",
      "text/plain": [
       "<Figure size 640x480 with 1 Axes>"
      ]
     },
     "metadata": {},
     "output_type": "display_data"
    }
   ],
   "source": [
    "# Visualise the relationship between the features and the response using scatterplots\n",
    "scaled_dfIceCreamSales.plot(x='Temperature',y='Ice Cream Profits',kind='scatter')"
   ]
  },
  {
   "cell_type": "code",
   "execution_count": 170,
   "metadata": {
    "tags": []
   },
   "outputs": [
    {
     "name": "stderr",
     "output_type": "stream",
     "text": [
      "C:\\Users\\Asus\\AppData\\Local\\Temp\\ipykernel_11284\\1242525084.py:6: UserWarning: \n",
      "\n",
      "`distplot` is a deprecated function and will be removed in seaborn v0.14.0.\n",
      "\n",
      "Please adapt your code to use either `displot` (a figure-level function with\n",
      "similar flexibility) or `histplot` (an axes-level function for histograms).\n",
      "\n",
      "For a guide to updating your code to use the new functions, please see\n",
      "https://gist.github.com/mwaskom/de44147ed2974457ad6372750bbe5751\n",
      "\n",
      "  sns.distplot(dfIceCreamSales['Temperature'], ax=ax[0])\n",
      "C:\\Users\\Asus\\anaconda3\\Lib\\site-packages\\seaborn\\_oldcore.py:1119: FutureWarning: use_inf_as_na option is deprecated and will be removed in a future version. Convert inf values to NaN before operating instead.\n",
      "  with pd.option_context('mode.use_inf_as_na', True):\n",
      "C:\\Users\\Asus\\AppData\\Local\\Temp\\ipykernel_11284\\1242525084.py:7: UserWarning: \n",
      "\n",
      "`distplot` is a deprecated function and will be removed in seaborn v0.14.0.\n",
      "\n",
      "Please adapt your code to use either `displot` (a figure-level function with\n",
      "similar flexibility) or `histplot` (an axes-level function for histograms).\n",
      "\n",
      "For a guide to updating your code to use the new functions, please see\n",
      "https://gist.github.com/mwaskom/de44147ed2974457ad6372750bbe5751\n",
      "\n",
      "  sns.distplot(scaled_dfIceCreamSales['Temperature'], ax=ax[1])\n",
      "C:\\Users\\Asus\\anaconda3\\Lib\\site-packages\\seaborn\\_oldcore.py:1119: FutureWarning: use_inf_as_na option is deprecated and will be removed in a future version. Convert inf values to NaN before operating instead.\n",
      "  with pd.option_context('mode.use_inf_as_na', True):\n"
     ]
    },
    {
     "data": {
      "image/png": "[encoded data removed]",
      "text/plain": [
       "<Figure size 640x480 with 2 Axes>"
      ]
     },
     "metadata": {},
     "output_type": "display_data"
    }
   ],
   "source": [
    "import seaborn as sns\n",
    "import matplotlib.pyplot as plt\n",
    "%matplotlib inline\n",
    "\n",
    "fig, ax = plt.subplots(ncols=2)\n",
    "sns.distplot(dfIceCreamSales['Temperature'], ax=ax[0])\n",
    "sns.distplot(scaled_dfIceCreamSales['Temperature'], ax=ax[1])\n",
    "plt.show()"
   ]
  },
  {
   "cell_type": "markdown",
   "metadata": {
    "id": "54eMqRWoBW52"
   },
   "source": [
    "# Perfroming Simple Linear Regression"
   ]
  },
  {
   "cell_type": "markdown",
   "metadata": {
    "id": "R8O25fC6BW52"
   },
   "source": [
    "Equation of linear regression<br>\n",
    "$y = c + m_1x_1 + m_2x_2 + ... + m_nx_n$\n",
    "\n",
    "-  $y$ is the response\n",
    "-  $c$ is the intercept\n",
    "-  $m_1$ is the coefficient for the first feature\n",
    "-  $m_n$ is the coefficient for the nth feature<br>\n",
    "\n",
    "In our case:\n",
    "\n",
    "$y = c + m_1 \\times TV$\n",
    "\n",
    "The $m$ values are called the model **coefficients** or **model parameters**."
   ]
  },
  {
   "cell_type": "markdown",
   "metadata": {
    "id": "SdKPVlotBW52"
   },
   "source": [
    "### Generic Steps in Model Building using ```sklearn```\n",
    "\n",
    "Before you read further, it is good to understand the generic structure of modeling using the scikit-learn library. Broadly, the steps to build any model can be divided as follows: "
   ]
  },
  {
   "cell_type": "markdown",
   "metadata": {
    "id": "GaxpcxRABW52"
   },
   "source": [
    "## Preparing X and y\n",
    "\n",
    "-  The scikit-learn library expects X (feature variable) and y (response variable) to be NumPy arrays.\n",
    "-  However, X can be a dataframe as Pandas is built over NumPy."
   ]
  },
  {
   "cell_type": "code",
   "execution_count": 172,
   "metadata": {
    "colab": {
     "base_uri": "https://localhost:8080/"
    },
    "id": "0ySJx_RkBW52",
    "outputId": "cdcd677e-7d8e-4b24-e1f8-5a8fb85d9904",
    "tags": []
   },
   "outputs": [
    {
     "data": {
      "text/plain": [
       "0      0.000000\n",
       "1      0.016129\n",
       "2      0.032258\n",
       "3      0.048387\n",
       "4      0.064516\n",
       "         ...   \n",
       "359    0.967742\n",
       "360    0.967742\n",
       "361    0.967742\n",
       "362    1.000000\n",
       "363    1.000000\n",
       "Name: Temperature, Length: 364, dtype: float64"
      ]
     },
     "execution_count": 172,
     "metadata": {},
     "output_type": "execute_result"
    }
   ],
   "source": [
    "# Putting feature variable to X\n",
    "X = scaled_dfIceCreamSales['Temperature']\n",
    "\n",
    "# Print the first 5 rows\n",
    "X"
   ]
  },
  {
   "cell_type": "code",
   "execution_count": 174,
   "metadata": {
    "colab": {
     "base_uri": "https://localhost:8080/"
    },
    "id": "RA6LC8R4BW52",
    "outputId": "4f7f2b72-2202-4d45-b077-1b8dde5935b0",
    "tags": []
   },
   "outputs": [
    {
     "data": {
      "text/plain": [
       "0    0.016665\n",
       "1    0.000000\n",
       "2    0.089652\n",
       "3    0.087456\n",
       "4    0.066400\n",
       "Name: Ice Cream Profits, dtype: float64"
      ]
     },
     "execution_count": 174,
     "metadata": {},
     "output_type": "execute_result"
    }
   ],
   "source": [
    "# Putting response variable to y\n",
    "y = scaled_dfIceCreamSales['Ice Cream Profits']\n",
    "\n",
    "# Print the first 5 rows\n",
    "y.head()"
   ]
  },
  {
   "cell_type": "markdown",
   "metadata": {
    "id": "fRshsy8OBW52"
   },
   "source": [
    "## Splitting Data into Training and Testing Sets"
   ]
  },
  {
   "cell_type": "code",
   "execution_count": 176,
   "metadata": {
    "id": "OD84Ss_hBW52",
    "tags": []
   },
   "outputs": [],
   "source": [
    "#random_state is the seed used by the random number generator, it can be any integer.\n",
    "\n",
    "from sklearn.model_selection import train_test_split\n",
    "X_train, X_test, y_train, y_test = train_test_split(X, y, train_size=0.7 , random_state=0000)"
   ]
  },
  {
   "cell_type": "code",
   "execution_count": 178,
   "metadata": {
    "colab": {
     "base_uri": "https://localhost:8080/"
    },
    "id": "XGx3CCXlBW52",
    "outputId": "149a721e-d422-4aa6-ce94-76cc7289a7ee",
    "tags": []
   },
   "outputs": [
    {
     "name": "stdout",
     "output_type": "stream",
     "text": [
      "(254,)\n",
      "(254,)\n",
      "(110,)\n",
      "(110,)\n"
     ]
    }
   ],
   "source": [
    "print(X_train.shape)\n",
    "print(y_train.shape)\n",
    "print(X_test.shape)\n",
    "print(y_test.shape)"
   ]
  },
  {
   "cell_type": "code",
   "execution_count": 180,
   "metadata": {
    "colab": {
     "base_uri": "https://localhost:8080/"
    },
    "id": "SVKR9nQHBW52",
    "outputId": "8dfd1eeb-d1d9-4229-de3c-7e2e17508dea",
    "tags": []
   },
   "outputs": [],
   "source": [
    "#It is a general convention in scikit-learn that observations are rows, while features are columns. \n",
    "#This is needed only when you are using a single feature; in this case, 'Temperature'.\n",
    "\n",
    "import numpy as np\n",
    "#Simply put, numpy.newaxis is used to increase the dimension of the existing array by one more dimension,\n",
    "# Convert X_train and X_test to NumPy arrays\n",
    "X_train = X_train.to_numpy()\n",
    "X_test = X_test.to_numpy()\n",
    "\n",
    "# Add new axis to the end\n",
    "X_train = X_train[:, np.newaxis]\n",
    "X_test = X_test[:, np.newaxis]"
   ]
  },
  {
   "cell_type": "code",
   "execution_count": 182,
   "metadata": {
    "colab": {
     "base_uri": "https://localhost:8080/"
    },
    "id": "P84R5ARrBW52",
    "outputId": "ef70bde7-5c3e-4f2e-f84a-ae1e031feb91",
    "tags": []
   },
   "outputs": [
    {
     "name": "stdout",
     "output_type": "stream",
     "text": [
      "(254, 1)\n",
      "(254,)\n",
      "(110, 1)\n",
      "(110,)\n"
     ]
    }
   ],
   "source": [
    "print(X_train.shape)\n",
    "print(y_train.shape)\n",
    "print(X_test.shape)\n",
    "print(y_test.shape)"
   ]
  },
  {
   "cell_type": "markdown",
   "metadata": {
    "id": "EdeY_F9xBW52"
   },
   "source": [
    "## Performing Linear Regression"
   ]
  },
  {
   "cell_type": "code",
   "execution_count": 184,
   "metadata": {
    "colab": {
     "base_uri": "https://localhost:8080/"
    },
    "id": "qL6yPFpABW52",
    "outputId": "fe24ad41-cfc8-4bb0-d11d-8c4b4eb9c6aa",
    "tags": []
   },
   "outputs": [
    {
     "data": {
      "text/html": [
       "<style>#sk-container-id-2 {\n",
       "  /* Definition of color scheme common for light and dark mode */\n",
       "  --sklearn-color-text: black;\n",
       "  --sklearn-color-line: gray;\n",
       "  /* Definition of color scheme for unfitted estimators */\n",
       "  --sklearn-color-unfitted-level-0: #fff5e6;\n",
       "  --sklearn-color-unfitted-level-1: #f6e4d2;\n",
       "  --sklearn-color-unfitted-level-2: #ffe0b3;\n",
       "  --sklearn-color-unfitted-level-3: chocolate;\n",
       "  /* Definition of color scheme for fitted estimators */\n",
       "  --sklearn-color-fitted-level-0: #f0f8ff;\n",
       "  --sklearn-color-fitted-level-1: #d4ebff;\n",
       "  --sklearn-color-fitted-level-2: #b3dbfd;\n",
       "  --sklearn-color-fitted-level-3: cornflowerblue;\n",
       "\n",
       "  /* Specific color for light theme */\n",
       "  --sklearn-color-text-on-default-background: var(--sg-text-color, var(--theme-code-foreground, var(--jp-content-font-color1, black)));\n",
       "  --sklearn-color-background: var(--sg-background-color, var(--theme-background, var(--jp-layout-color0, white)));\n",
       "  --sklearn-color-border-box: var(--sg-text-color, var(--theme-code-foreground, var(--jp-content-font-color1, black)));\n",
       "  --sklearn-color-icon: #696969;\n",
       "\n",
       "  @media (prefers-color-scheme: dark) {\n",
       "    /* Redefinition of color scheme for dark theme */\n",
       "    --sklearn-color-text-on-default-background: var(--sg-text-color, var(--theme-code-foreground, var(--jp-content-font-color1, white)));\n",
       "    --sklearn-color-background: var(--sg-background-color, var(--theme-background, var(--jp-layout-color0, #111)));\n",
       "    --sklearn-color-border-box: var(--sg-text-color, var(--theme-code-foreground, var(--jp-content-font-color1, white)));\n",
       "    --sklearn-color-icon: #878787;\n",
       "  }\n",
       "}\n",
       "\n",
       "#sk-container-id-2 {\n",
       "  color: var(--sklearn-color-text);\n",
       "}\n",
       "\n",
       "#sk-container-id-2 pre {\n",
       "  padding: 0;\n",
       "}\n",
       "\n",
       "#sk-container-id-2 input.sk-hidden--visually {\n",
       "  border: 0;\n",
       "  clip: rect(1px 1px 1px 1px);\n",
       "  clip: rect(1px, 1px, 1px, 1px);\n",
       "  height: 1px;\n",
       "  margin: -1px;\n",
       "  overflow: hidden;\n",
       "  padding: 0;\n",
       "  position: absolute;\n",
       "  width: 1px;\n",
       "}\n",
       "\n",
       "#sk-container-id-2 div.sk-dashed-wrapped {\n",
       "  border: 1px dashed var(--sklearn-color-line);\n",
       "  margin: 0 0.4em 0.5em 0.4em;\n",
       "  box-sizing: border-box;\n",
       "  padding-bottom: 0.4em;\n",
       "  background-color: var(--sklearn-color-background);\n",
       "}\n",
       "\n",
       "#sk-container-id-2 div.sk-container {\n",
       "  /* jupyter's `normalize.less` sets `[hidden] { display: none; }`\n",
       "     but bootstrap.min.css set `[hidden] { display: none !important; }`\n",
       "     so we also need the `!important` here to be able to override the\n",
       "     default hidden behavior on the sphinx rendered scikit-learn.org.\n",
       "     See: https://github.com/scikit-learn/scikit-learn/issues/21755 */\n",
       "  display: inline-block !important;\n",
       "  position: relative;\n",
       "}\n",
       "\n",
       "#sk-container-id-2 div.sk-text-repr-fallback {\n",
       "  display: none;\n",
       "}\n",
       "\n",
       "div.sk-parallel-item,\n",
       "div.sk-serial,\n",
       "div.sk-item {\n",
       "  /* draw centered vertical line to link estimators */\n",
       "  background-image: linear-gradient(var(--sklearn-color-text-on-default-background), var(--sklearn-color-text-on-default-background));\n",
       "  background-size: 2px 100%;\n",
       "  background-repeat: no-repeat;\n",
       "  background-position: center center;\n",
       "}\n",
       "\n",
       "/* Parallel-specific style estimator block */\n",
       "\n",
       "#sk-container-id-2 div.sk-parallel-item::after {\n",
       "  content: \"\";\n",
       "  width: 100%;\n",
       "  border-bottom: 2px solid var(--sklearn-color-text-on-default-background);\n",
       "  flex-grow: 1;\n",
       "}\n",
       "\n",
       "#sk-container-id-2 div.sk-parallel {\n",
       "  display: flex;\n",
       "  align-items: stretch;\n",
       "  justify-content: center;\n",
       "  background-color: var(--sklearn-color-background);\n",
       "  position: relative;\n",
       "}\n",
       "\n",
       "#sk-container-id-2 div.sk-parallel-item {\n",
       "  display: flex;\n",
       "  flex-direction: column;\n",
       "}\n",
       "\n",
       "#sk-container-id-2 div.sk-parallel-item:first-child::after {\n",
       "  align-self: flex-end;\n",
       "  width: 50%;\n",
       "}\n",
       "\n",
       "#sk-container-id-2 div.sk-parallel-item:last-child::after {\n",
       "  align-self: flex-start;\n",
       "  width: 50%;\n",
       "}\n",
       "\n",
       "#sk-container-id-2 div.sk-parallel-item:only-child::after {\n",
       "  width: 0;\n",
       "}\n",
       "\n",
       "/* Serial-specific style estimator block */\n",
       "\n",
       "#sk-container-id-2 div.sk-serial {\n",
       "  display: flex;\n",
       "  flex-direction: column;\n",
       "  align-items: center;\n",
       "  background-color: var(--sklearn-color-background);\n",
       "  padding-right: 1em;\n",
       "  padding-left: 1em;\n",
       "}\n",
       "\n",
       "\n",
       "/* Toggleable style: style used for estimator/Pipeline/ColumnTransformer box that is\n",
       "clickable and can be expanded/collapsed.\n",
       "- Pipeline and ColumnTransformer use this feature and define the default style\n",
       "- Estimators will overwrite some part of the style using the `sk-estimator` class\n",
       "*/\n",
       "\n",
       "/* Pipeline and ColumnTransformer style (default) */\n",
       "\n",
       "#sk-container-id-2 div.sk-toggleable {\n",
       "  /* Default theme specific background. It is overwritten whether we have a\n",
       "  specific estimator or a Pipeline/ColumnTransformer */\n",
       "  background-color: var(--sklearn-color-background);\n",
       "}\n",
       "\n",
       "/* Toggleable label */\n",
       "#sk-container-id-2 label.sk-toggleable__label {\n",
       "  cursor: pointer;\n",
       "  display: block;\n",
       "  width: 100%;\n",
       "  margin-bottom: 0;\n",
       "  padding: 0.5em;\n",
       "  box-sizing: border-box;\n",
       "  text-align: center;\n",
       "}\n",
       "\n",
       "#sk-container-id-2 label.sk-toggleable__label-arrow:before {\n",
       "  /* Arrow on the left of the label */\n",
       "  content: \"▸\";\n",
       "  float: left;\n",
       "  margin-right: 0.25em;\n",
       "  color: var(--sklearn-color-icon);\n",
       "}\n",
       "\n",
       "#sk-container-id-2 label.sk-toggleable__label-arrow:hover:before {\n",
       "  color: var(--sklearn-color-text);\n",
       "}\n",
       "\n",
       "/* Toggleable content - dropdown */\n",
       "\n",
       "#sk-container-id-2 div.sk-toggleable__content {\n",
       "  max-height: 0;\n",
       "  max-width: 0;\n",
       "  overflow: hidden;\n",
       "  text-align: left;\n",
       "  /* unfitted */\n",
       "  background-color: var(--sklearn-color-unfitted-level-0);\n",
       "}\n",
       "\n",
       "#sk-container-id-2 div.sk-toggleable__content.fitted {\n",
       "  /* fitted */\n",
       "  background-color: var(--sklearn-color-fitted-level-0);\n",
       "}\n",
       "\n",
       "#sk-container-id-2 div.sk-toggleable__content pre {\n",
       "  margin: 0.2em;\n",
       "  border-radius: 0.25em;\n",
       "  color: var(--sklearn-color-text);\n",
       "  /* unfitted */\n",
       "  background-color: var(--sklearn-color-unfitted-level-0);\n",
       "}\n",
       "\n",
       "#sk-container-id-2 div.sk-toggleable__content.fitted pre {\n",
       "  /* unfitted */\n",
       "  background-color: var(--sklearn-color-fitted-level-0);\n",
       "}\n",
       "\n",
       "#sk-container-id-2 input.sk-toggleable__control:checked~div.sk-toggleable__content {\n",
       "  /* Expand drop-down */\n",
       "  max-height: 200px;\n",
       "  max-width: 100%;\n",
       "  overflow: auto;\n",
       "}\n",
       "\n",
       "#sk-container-id-2 input.sk-toggleable__control:checked~label.sk-toggleable__label-arrow:before {\n",
       "  content: \"▾\";\n",
       "}\n",
       "\n",
       "/* Pipeline/ColumnTransformer-specific style */\n",
       "\n",
       "#sk-container-id-2 div.sk-label input.sk-toggleable__control:checked~label.sk-toggleable__label {\n",
       "  color: var(--sklearn-color-text);\n",
       "  background-color: var(--sklearn-color-unfitted-level-2);\n",
       "}\n",
       "\n",
       "#sk-container-id-2 div.sk-label.fitted input.sk-toggleable__control:checked~label.sk-toggleable__label {\n",
       "  background-color: var(--sklearn-color-fitted-level-2);\n",
       "}\n",
       "\n",
       "/* Estimator-specific style */\n",
       "\n",
       "/* Colorize estimator box */\n",
       "#sk-container-id-2 div.sk-estimator input.sk-toggleable__control:checked~label.sk-toggleable__label {\n",
       "  /* unfitted */\n",
       "  background-color: var(--sklearn-color-unfitted-level-2);\n",
       "}\n",
       "\n",
       "#sk-container-id-2 div.sk-estimator.fitted input.sk-toggleable__control:checked~label.sk-toggleable__label {\n",
       "  /* fitted */\n",
       "  background-color: var(--sklearn-color-fitted-level-2);\n",
       "}\n",
       "\n",
       "#sk-container-id-2 div.sk-label label.sk-toggleable__label,\n",
       "#sk-container-id-2 div.sk-label label {\n",
       "  /* The background is the default theme color */\n",
       "  color: var(--sklearn-color-text-on-default-background);\n",
       "}\n",
       "\n",
       "/* On hover, darken the color of the background */\n",
       "#sk-container-id-2 div.sk-label:hover label.sk-toggleable__label {\n",
       "  color: var(--sklearn-color-text);\n",
       "  background-color: var(--sklearn-color-unfitted-level-2);\n",
       "}\n",
       "\n",
       "/* Label box, darken color on hover, fitted */\n",
       "#sk-container-id-2 div.sk-label.fitted:hover label.sk-toggleable__label.fitted {\n",
       "  color: var(--sklearn-color-text);\n",
       "  background-color: var(--sklearn-color-fitted-level-2);\n",
       "}\n",
       "\n",
       "/* Estimator label */\n",
       "\n",
       "#sk-container-id-2 div.sk-label label {\n",
       "  font-family: monospace;\n",
       "  font-weight: bold;\n",
       "  display: inline-block;\n",
       "  line-height: 1.2em;\n",
       "}\n",
       "\n",
       "#sk-container-id-2 div.sk-label-container {\n",
       "  text-align: center;\n",
       "}\n",
       "\n",
       "/* Estimator-specific */\n",
       "#sk-container-id-2 div.sk-estimator {\n",
       "  font-family: monospace;\n",
       "  border: 1px dotted var(--sklearn-color-border-box);\n",
       "  border-radius: 0.25em;\n",
       "  box-sizing: border-box;\n",
       "  margin-bottom: 0.5em;\n",
       "  /* unfitted */\n",
       "  background-color: var(--sklearn-color-unfitted-level-0);\n",
       "}\n",
       "\n",
       "#sk-container-id-2 div.sk-estimator.fitted {\n",
       "  /* fitted */\n",
       "  background-color: var(--sklearn-color-fitted-level-0);\n",
       "}\n",
       "\n",
       "/* on hover */\n",
       "#sk-container-id-2 div.sk-estimator:hover {\n",
       "  /* unfitted */\n",
       "  background-color: var(--sklearn-color-unfitted-level-2);\n",
       "}\n",
       "\n",
       "#sk-container-id-2 div.sk-estimator.fitted:hover {\n",
       "  /* fitted */\n",
       "  background-color: var(--sklearn-color-fitted-level-2);\n",
       "}\n",
       "\n",
       "/* Specification for estimator info (e.g. \"i\" and \"?\") */\n",
       "\n",
       "/* Common style for \"i\" and \"?\" */\n",
       "\n",
       ".sk-estimator-doc-link,\n",
       "a:link.sk-estimator-doc-link,\n",
       "a:visited.sk-estimator-doc-link {\n",
       "  float: right;\n",
       "  font-size: smaller;\n",
       "  line-height: 1em;\n",
       "  font-family: monospace;\n",
       "  background-color: var(--sklearn-color-background);\n",
       "  border-radius: 1em;\n",
       "  height: 1em;\n",
       "  width: 1em;\n",
       "  text-decoration: none !important;\n",
       "  margin-left: 1ex;\n",
       "  /* unfitted */\n",
       "  border: var(--sklearn-color-unfitted-level-1) 1pt solid;\n",
       "  color: var(--sklearn-color-unfitted-level-1);\n",
       "}\n",
       "\n",
       ".sk-estimator-doc-link.fitted,\n",
       "a:link.sk-estimator-doc-link.fitted,\n",
       "a:visited.sk-estimator-doc-link.fitted {\n",
       "  /* fitted */\n",
       "  border: var(--sklearn-color-fitted-level-1) 1pt solid;\n",
       "  color: var(--sklearn-color-fitted-level-1);\n",
       "}\n",
       "\n",
       "/* On hover */\n",
       "div.sk-estimator:hover .sk-estimator-doc-link:hover,\n",
       ".sk-estimator-doc-link:hover,\n",
       "div.sk-label-container:hover .sk-estimator-doc-link:hover,\n",
       ".sk-estimator-doc-link:hover {\n",
       "  /* unfitted */\n",
       "  background-color: var(--sklearn-color-unfitted-level-3);\n",
       "  color: var(--sklearn-color-background);\n",
       "  text-decoration: none;\n",
       "}\n",
       "\n",
       "div.sk-estimator.fitted:hover .sk-estimator-doc-link.fitted:hover,\n",
       ".sk-estimator-doc-link.fitted:hover,\n",
       "div.sk-label-container:hover .sk-estimator-doc-link.fitted:hover,\n",
       ".sk-estimator-doc-link.fitted:hover {\n",
       "  /* fitted */\n",
       "  background-color: var(--sklearn-color-fitted-level-3);\n",
       "  color: var(--sklearn-color-background);\n",
       "  text-decoration: none;\n",
       "}\n",
       "\n",
       "/* Span, style for the box shown on hovering the info icon */\n",
       ".sk-estimator-doc-link span {\n",
       "  display: none;\n",
       "  z-index: 9999;\n",
       "  position: relative;\n",
       "  font-weight: normal;\n",
       "  right: .2ex;\n",
       "  padding: .5ex;\n",
       "  margin: .5ex;\n",
       "  width: min-content;\n",
       "  min-width: 20ex;\n",
       "  max-width: 50ex;\n",
       "  color: var(--sklearn-color-text);\n",
       "  box-shadow: 2pt 2pt 4pt #999;\n",
       "  /* unfitted */\n",
       "  background: var(--sklearn-color-unfitted-level-0);\n",
       "  border: .5pt solid var(--sklearn-color-unfitted-level-3);\n",
       "}\n",
       "\n",
       ".sk-estimator-doc-link.fitted span {\n",
       "  /* fitted */\n",
       "  background: var(--sklearn-color-fitted-level-0);\n",
       "  border: var(--sklearn-color-fitted-level-3);\n",
       "}\n",
       "\n",
       ".sk-estimator-doc-link:hover span {\n",
       "  display: block;\n",
       "}\n",
       "\n",
       "/* \"?\"-specific style due to the `<a>` HTML tag */\n",
       "\n",
       "#sk-container-id-2 a.estimator_doc_link {\n",
       "  float: right;\n",
       "  font-size: 1rem;\n",
       "  line-height: 1em;\n",
       "  font-family: monospace;\n",
       "  background-color: var(--sklearn-color-background);\n",
       "  border-radius: 1rem;\n",
       "  height: 1rem;\n",
       "  width: 1rem;\n",
       "  text-decoration: none;\n",
       "  /* unfitted */\n",
       "  color: var(--sklearn-color-unfitted-level-1);\n",
       "  border: var(--sklearn-color-unfitted-level-1) 1pt solid;\n",
       "}\n",
       "\n",
       "#sk-container-id-2 a.estimator_doc_link.fitted {\n",
       "  /* fitted */\n",
       "  border: var(--sklearn-color-fitted-level-1) 1pt solid;\n",
       "  color: var(--sklearn-color-fitted-level-1);\n",
       "}\n",
       "\n",
       "/* On hover */\n",
       "#sk-container-id-2 a.estimator_doc_link:hover {\n",
       "  /* unfitted */\n",
       "  background-color: var(--sklearn-color-unfitted-level-3);\n",
       "  color: var(--sklearn-color-background);\n",
       "  text-decoration: none;\n",
       "}\n",
       "\n",
       "#sk-container-id-2 a.estimator_doc_link.fitted:hover {\n",
       "  /* fitted */\n",
       "  background-color: var(--sklearn-color-fitted-level-3);\n",
       "}\n",
       "</style><div id=\"sk-container-id-2\" class=\"sk-top-container\"><div class=\"sk-text-repr-fallback\"><pre>LinearRegression()</pre><b>In a Jupyter environment, please rerun this cell to show the HTML representation or trust the notebook. <br />On GitHub, the HTML representation is unable to render, please try loading this page with nbviewer.org.</b></div><div class=\"sk-container\" hidden><div class=\"sk-item\"><div class=\"sk-estimator fitted sk-toggleable\"><input class=\"sk-toggleable__control sk-hidden--visually\" id=\"sk-estimator-id-2\" type=\"checkbox\" checked><label for=\"sk-estimator-id-2\" class=\"sk-toggleable__label fitted sk-toggleable__label-arrow fitted\">&nbsp;&nbsp;LinearRegression<a class=\"sk-estimator-doc-link fitted\" rel=\"noreferrer\" target=\"_blank\" href=\"https://scikit-learn.org/1.5/modules/generated/sklearn.linear_model.LinearRegression.html\">?<span>Documentation for LinearRegression</span></a><span class=\"sk-estimator-doc-link fitted\">i<span>Fitted</span></span></label><div class=\"sk-toggleable__content fitted\"><pre>LinearRegression()</pre></div> </div></div></div></div>"
      ],
      "text/plain": [
       "LinearRegression()"
      ]
     },
     "execution_count": 184,
     "metadata": {},
     "output_type": "execute_result"
    }
   ],
   "source": [
    "# import LinearRegression from sklearn\n",
    "from sklearn.linear_model import LinearRegression\n",
    "\n",
    "# Representing LinearRegression as lr(Creating LinearRegression Object)\n",
    "lr = LinearRegression()\n",
    "\n",
    "# Fit the model using lr.fit()\n",
    "lr.fit(X_train, y_train)"
   ]
  },
  {
   "cell_type": "markdown",
   "metadata": {
    "id": "ZhChGqJ2BW52"
   },
   "source": [
    "## Coefficients Calculation"
   ]
  },
  {
   "cell_type": "code",
   "execution_count": 186,
   "metadata": {
    "colab": {
     "base_uri": "https://localhost:8080/"
    },
    "id": "527h4jGWBW52",
    "outputId": "45d60d59-59c1-4b1e-d66e-2c4e6e44f6f7",
    "scrolled": true,
    "tags": []
   },
   "outputs": [
    {
     "name": "stdout",
     "output_type": "stream",
     "text": [
      "0.011650470366092569\n",
      "[0.95418297]\n"
     ]
    }
   ],
   "source": [
    "# Print the intercept and coefficients\n",
    "print(lr.intercept_)\n",
    "print(lr.coef_)"
   ]
  },
  {
   "cell_type": "markdown",
   "metadata": {
    "id": "Hm_44AKFBW53"
   },
   "source": [
    "$y = 0.011 + 0.954 \\times Temperatures $<br>  y = c + m1 x Temperatures\n",
    "\n",
    "Now, let's use this equation to predict our sales."
   ]
  },
  {
   "cell_type": "markdown",
   "metadata": {
    "id": "8t8Av_XXBW53"
   },
   "source": [
    "## Predictions"
   ]
  },
  {
   "cell_type": "code",
   "execution_count": 188,
   "metadata": {
    "id": "wJqlolZtBW53",
    "tags": []
   },
   "outputs": [],
   "source": [
    "# Making predictions on the testing set\n",
    "y_pred = lr.predict(X_test)"
   ]
  },
  {
   "cell_type": "code",
   "execution_count": 190,
   "metadata": {
    "colab": {
     "base_uri": "https://localhost:8080/"
    },
    "id": "4u4Cz-xqBW53",
    "outputId": "b0d8415b-b6c7-4b39-d8d2-a13bc41c54d8",
    "tags": []
   },
   "outputs": [
    {
     "data": {
      "text/plain": [
       "numpy.ndarray"
      ]
     },
     "execution_count": 190,
     "metadata": {},
     "output_type": "execute_result"
    }
   ],
   "source": [
    "type(y_pred)"
   ]
  },
  {
   "cell_type": "markdown",
   "metadata": {
    "id": "42DUHkQzBW53"
   },
   "source": [
    "#### Computing RMSE and R^2 Values\n",
    "RMSE is the standard deviation of the errors which occur when a prediction is made on a dataset. This is the same as MSE (Mean Squared Error) but the root of the value is considered while determining the accuracy of the model\n"
   ]
  },
  {
   "cell_type": "code",
   "execution_count": 192,
   "metadata": {
    "colab": {
     "base_uri": "https://localhost:8080/"
    },
    "id": "yRt2E6pIK9h1",
    "outputId": "64ea703a-d923-4c1d-d0bd-202be086239e",
    "tags": []
   },
   "outputs": [
    {
     "data": {
      "text/plain": [
       "(110,)"
      ]
     },
     "execution_count": 192,
     "metadata": {},
     "output_type": "execute_result"
    }
   ],
   "source": [
    "y_test.shape # cheek the shape to generate the index for plot"
   ]
  },
  {
   "cell_type": "code",
   "execution_count": 194,
   "metadata": {
    "colab": {
     "base_uri": "https://localhost:8080/",
     "height": 333
    },
    "id": "beUEVjg3Jb_h",
    "outputId": "bdb68398-759e-4f78-b568-a32fab391ec6",
    "tags": []
   },
   "outputs": [
    {
     "data": {
      "text/plain": [
       "Text(0, 0.5, 'Ice Cream Profits')"
      ]
     },
     "execution_count": 194,
     "metadata": {},
     "output_type": "execute_result"
    },
    {
     "data": {
      "image/png": "[encoded data removed]",
      "text/plain": [
       "<Figure size 640x480 with 1 Axes>"
      ]
     },
     "metadata": {},
     "output_type": "display_data"
    }
   ],
   "source": [
    "# Actual vs Predicted\n",
    "import matplotlib.pyplot as plt\n",
    "c = [i for i in range(1,111,1)]         # generating index \n",
    "fig = plt.figure()\n",
    "plt.plot(c,y_test, color=\"blue\", linewidth=2, linestyle=\"-\")\n",
    "plt.plot(c,y_pred, color=\"red\",  linewidth=2, linestyle=\"-\")\n",
    "fig.suptitle('Actual and Predicted', fontsize=20)              # Plot heading \n",
    "plt.xlabel('Temperatures', fontsize=18)                               # X-label\n",
    "plt.ylabel('Ice Cream Profits', fontsize=16)                       # Y-label"
   ]
  },
  {
   "cell_type": "code",
   "execution_count": 196,
   "metadata": {
    "colab": {
     "base_uri": "https://localhost:8080/",
     "height": 333
    },
    "id": "fHp6JU41BW53",
    "outputId": "6af7c0f5-526f-4b53-dd8c-476c8c795ea5",
    "tags": []
   },
   "outputs": [
    {
     "data": {
      "text/plain": [
       "Text(0, 0.5, 'ytest-ypred')"
      ]
     },
     "execution_count": 196,
     "metadata": {},
     "output_type": "execute_result"
    },
    {
     "data": {
      "image/png": "[encoded data removed]",
      "text/plain": [
       "<Figure size 640x480 with 1 Axes>"
      ]
     },
     "metadata": {},
     "output_type": "display_data"
    }
   ],
   "source": [
    "# Error terms\n",
    "c = [i for i in range(1,111,1)]\n",
    "fig = plt.figure()\n",
    "plt.plot(c,y_test-y_pred, color=\"blue\", linewidth=2, linestyle=\"-\")\n",
    "fig.suptitle('Error Terms', fontsize=20)              # Plot heading \n",
    "plt.xlabel('Index', fontsize=18)                      # X-label\n",
    "plt.ylabel('ytest-ypred', fontsize=16)                # Y-label"
   ]
  },
  {
   "cell_type": "code",
   "execution_count": 198,
   "metadata": {
    "id": "rJKwrhrABW53",
    "tags": []
   },
   "outputs": [],
   "source": [
    "from sklearn.metrics import mean_squared_error, r2_score\n",
    "mse = mean_squared_error(y_test, y_pred)"
   ]
  },
  {
   "cell_type": "code",
   "execution_count": 200,
   "metadata": {
    "id": "v6OraM7mBW53",
    "tags": []
   },
   "outputs": [],
   "source": [
    "r_squared = r2_score(y_test, y_pred)"
   ]
  },
  {
   "cell_type": "code",
   "execution_count": null,
   "metadata": {},
   "outputs": [],
   "source": [
    "#Catatan : MSE error yang bagus itu dibawah 10 %"
   ]
  },
  {
   "cell_type": "code",
   "execution_count": 202,
   "metadata": {
    "colab": {
     "base_uri": "https://localhost:8080/"
    },
    "id": "osv85GbBBW53",
    "outputId": "8cd66d2c-988a-45ce-9f76-84518bed87a2",
    "tags": []
   },
   "outputs": [
    {
     "name": "stdout",
     "output_type": "stream",
     "text": [
      "Mean_Squared_Error : 0.0007557429201176046\n",
      "r_square_value : 0.981246861301204\n"
     ]
    }
   ],
   "source": [
    "print('Mean_Squared_Error :' ,mse)\n",
    "print('r_square_value :',r_squared)"
   ]
  },
  {
   "cell_type": "code",
   "execution_count": 204,
   "metadata": {
    "id": "cvBH_rcAQFSv"
   },
   "outputs": [],
   "source": [
    "# this mse =0.0007 means that this model is not able to match the 0.07% percent of the values\n",
    "# r2 means that your model is 98% is accurate on test data ."
   ]
  },
  {
   "cell_type": "code",
   "execution_count": 206,
   "metadata": {
    "colab": {
     "base_uri": "https://localhost:8080/",
     "height": 279
    },
    "id": "P1-nZjpyBW53",
    "outputId": "d770a694-3d01-4b22-d00e-9e73a5a39b83",
    "tags": []
   },
   "outputs": [
    {
     "data": {
      "image/png": "[encoded data removed]",
      "text/plain": [
       "<Figure size 640x480 with 1 Axes>"
      ]
     },
     "metadata": {},
     "output_type": "display_data"
    }
   ],
   "source": [
    "import matplotlib.pyplot as plt\n",
    "plt.scatter(y_test,y_pred,c='blue')\n",
    "plt.xlabel('Y Test')\n",
    "plt.ylabel('Predicted Y')\n",
    "plt.grid()\n"
   ]
  },
  {
   "cell_type": "markdown",
   "metadata": {},
   "source": [
    "Catatan : selisih antara train dengan test juga maks di 10% baik di evaluasi matrix regresi ataupun klasifikasi..\n",
    "tapi nanti sambil dicek juga di label target nya make describe() buat liat rentang nilai maks dan min\n",
    "df['target'].describe()  , target disitu nama kolom targetnya..\n",
    "misal min 5, maks 100, RMSE kita 3 maka bagus banget (semakin mendekati nilai minimum atau dibawah itu maka bagus) tapi kalo semakin deket ke nilai maks atau lebih maka modellnya jelek"
   ]
  }
 ],
 "metadata": {
  "colab": {
   "name": "Case study Simple Linear Regression.ipynb",
   "provenance": []
  },
  "kernelspec": {
   "display_name": "Python 3 (ipykernel)",
   "language": "python",
   "name": "python3"
  },
  "language_info": {
   "codemirror_mode": {
    "name": "ipython",
    "version": 3
   },
   "file_extension": ".py",
   "mimetype": "text/x-python",
   "name": "python",
   "nbconvert_exporter": "python",
   "pygments_lexer": "ipython3",
   "version": "3.11.7"
  }
 },
 "nbformat": 4,
 "nbformat_minor": 4
}
